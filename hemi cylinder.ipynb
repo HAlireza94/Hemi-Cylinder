{
 "cells": [
  {
   "cell_type": "code",
   "execution_count": 2,
   "id": "67c84744",
   "metadata": {},
   "outputs": [],
   "source": [
    "import numpy as np\n",
    "import matplotlib.pyplot as plt\n",
    "from scipy.optimize import curve_fit\n",
    "from scipy.optimize import least_squares\n",
    "import pandas as pd\n",
    "from sklearn.metrics import r2_score\n",
    "import matplotlib.pyplot as plt\n",
    "from lmfit import Model\n",
    "from sympy import symbols, solve\n",
    "import openpyxl \n",
    "from sklearn.metrics import mean_absolute_error,mean_squared_error\n",
    "from mpl_toolkits.axes_grid1 import make_axes_locatable\n",
    "from scipy import optimize\n",
    "import sympy as sp\n",
    "import math as m"
   ]
  },
  {
   "cell_type": "code",
   "execution_count": 3,
   "id": "5a297e28",
   "metadata": {},
   "outputs": [
    {
     "name": "stdout",
     "output_type": "stream",
     "text": [
      "===================================================================\n",
      "4.27\n",
      "\n",
      "\n",
      "\n",
      "\n"
     ]
    }
   ],
   "source": [
    "Z = []\n",
    "with open ('conf.gro') as f:\n",
    "    for line in f:\n",
    "        p = line.split()\n",
    "#         print(p)\n",
    "\n",
    "        if len(p) > 6:\n",
    "            if float(p[5])>0:\n",
    "                Z.append(float(p[5]))\n",
    "            else:\n",
    "                Z.append(float(p[4]))\n",
    "\n",
    "check_mark = (np.min(Z) + np.max(Z))/2\n",
    "\n",
    "print('===================================================================')\n",
    "print(str(check_mark))\n",
    "print(\"\")\n",
    "print(\"\")\n",
    "print(\"\")\n",
    "print(\"\")\n",
    "\n",
    "j = []\n",
    "for i in range(len(Z)):\n",
    "    j.append(i)\n",
    "\n",
    "molecules_index = []\n",
    "for i in range(int((len(j)/4))):\n",
    "#     print(i)\n",
    "    a1 = 4*i\n",
    "    a2 = 4*i+1\n",
    "    a3 = 4*i+2\n",
    "    a4 = 4*i+3\n",
    "    array = [a1,a2,a3,a4]\n",
    "    molecules_index.append(array)\n",
    "    \n",
    "finding_symmetric_index = []\n",
    "for i in range(len(molecules_index)):\n",
    "    if Z[molecules_index[i][0]] > check_mark and Z[molecules_index[i][1]] > check_mark and Z[molecules_index[i][2]] > check_mark and Z[molecules_index[i][3]] > check_mark:\n",
    "        finding_symmetric_index.append(molecules_index[i])\n",
    "        \n",
    "        \n",
    "lines = []\n",
    "for i in range(len(finding_symmetric_index)):\n",
    "    for j in range(0,4):\n",
    "        lines.append(finding_symmetric_index[i][j])\n",
    "\n",
    "        \n",
    "with open('conf.gro','r+') as fp:\n",
    "    LINES = fp.readlines()\n",
    "    \n",
    "#     targetted_molecules = open(\"new-conf.gro\",\"x\")\n",
    "    for i in range(len(lines)):\n",
    "        fp.writelines(LINES[lines[i]+2])\n",
    "        \n",
    "        \n",
    "        "
   ]
  },
  {
   "cell_type": "code",
   "execution_count": 4,
   "id": "2875a041",
   "metadata": {},
   "outputs": [
    {
     "name": "stdout",
     "output_type": "stream",
     "text": [
      "2.499\n"
     ]
    }
   ],
   "source": [
    "Z = []\n",
    "with open ('c-conf.gro','r+') as f:\n",
    "    for line in f:\n",
    "        p = line.split()\n",
    "#         print(p)\n",
    "\n",
    "        if len(p) > 6:\n",
    "            if float(p[5])>0:\n",
    "                Z.append(float(p[5]))\n",
    "            else:\n",
    "                Z.append(float(p[4]))\n",
    "\n",
    "betta = (np.max(Z) - np.min(Z))\n",
    "print(format(betta,'.3f'))\n",
    "\n",
    "\n",
    "new_Z = []\n",
    "for i in range(len(Z)):\n",
    "    new_Z.append(format((Z[i]-betta),'.3f'))\n",
    "\n"
   ]
  },
  {
   "cell_type": "code",
   "execution_count": 5,
   "id": "41035d25",
   "metadata": {},
   "outputs": [],
   "source": [
    "with open('c-conf.gro','r+') as fle:\n",
    "    lst = fle.readlines()\n",
    "\n",
    "\n",
    "new_lst = []\n",
    "for i in range(len(new_Z)):\n",
    "    new_lst.append(lst[i].replace(format(Z[i],'.3f'),(new_Z[i])))\n",
    "    \n",
    "with open('conf-finally.gro','r+') as cf:\n",
    "    for i in range(len(new_lst)):\n",
    "        cf.write(new_lst[i])\n",
    "\n",
    "\n",
    "\n",
    "# new_file.close\n",
    "# new_lst"
   ]
  },
  {
   "cell_type": "code",
   "execution_count": null,
   "id": "d567f193",
   "metadata": {},
   "outputs": [],
   "source": []
  }
 ],
 "metadata": {
  "kernelspec": {
   "display_name": "Python 3 (ipykernel)",
   "language": "python",
   "name": "python3"
  },
  "language_info": {
   "codemirror_mode": {
    "name": "ipython",
    "version": 3
   },
   "file_extension": ".py",
   "mimetype": "text/x-python",
   "name": "python",
   "nbconvert_exporter": "python",
   "pygments_lexer": "ipython3",
   "version": "3.10.9"
  }
 },
 "nbformat": 4,
 "nbformat_minor": 5
}
